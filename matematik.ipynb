{
 "cells": [
  {
   "cell_type": "markdown",
   "id": "eacfe5b4",
   "metadata": {},
   "source": [
    "# IMPORT LIBRARIES"
   ]
  },
  {
   "cell_type": "code",
   "execution_count": 1,
   "id": "fa17b34c",
   "metadata": {},
   "outputs": [],
   "source": [
    "import time\n",
    "import basitmatematik as bsmk #basit matematik is turkish word. English meaning basic math or easy math. My prefer easy math."
   ]
  },
  {
   "cell_type": "markdown",
   "id": "ab68a022",
   "metadata": {},
   "source": [
    "# BSMK LIBRARIES USING"
   ]
  },
  {
   "cell_type": "code",
   "execution_count": null,
   "id": "502598b6",
   "metadata": {},
   "outputs": [],
   "source": [
    "#python for bsmk using and command \n",
    "def ucebolunme(sayi):\n",
    "    if sayi %3==0:\n",
    "        print(\"3'e bölünür\")\n",
    "    else:\n",
    "        print(\"3'e bölünmez\")\n",
    "\n",
    "def kendindenoncekisayi(sayi):\n",
    "    sayi -= 1\n",
    "    print(sayi)\n",
    "\n",
    "def usalma(sayi,usalma1):\n",
    "    sayi = sayi**usalma1\n",
    "    print(sayi)\n",
    "\n",
    "def karealanhesaplama(kenar):\n",
    "    alan = kenar**2\n",
    "    print(alan)\n",
    "\n",
    "def dairenincevresinihesaplama(yaricap):\n",
    "    print(\"Pi üç alınır.\")\n",
    "    yaricap = 2*yaricap*3\n",
    "    print(yaricap)\n",
    "\n"
   ]
  },
  {
   "cell_type": "code",
   "execution_count": 8,
   "id": "d2f79956",
   "metadata": {
    "scrolled": true
   },
   "outputs": [
    {
     "name": "stdout",
     "output_type": "stream",
     "text": [
      "4\n"
     ]
    }
   ],
   "source": [
    "bsmk.karealanhesaplama(2)"
   ]
  },
  {
   "cell_type": "markdown",
   "id": "fd64fc5e",
   "metadata": {},
   "source": [
    "# NOTE: functions is turkish because i developing my language turkish."
   ]
  },
  {
   "cell_type": "markdown",
   "id": "ec35b54b",
   "metadata": {},
   "source": [
    "### github: https://github.com/yusufsaidx or https://yusufsaidx.github.io"
   ]
  }
 ],
 "metadata": {
  "kernelspec": {
   "display_name": "Python 3 (ipykernel)",
   "language": "python",
   "name": "python3"
  },
  "language_info": {
   "codemirror_mode": {
    "name": "ipython",
    "version": 3
   },
   "file_extension": ".py",
   "mimetype": "text/x-python",
   "name": "python",
   "nbconvert_exporter": "python",
   "pygments_lexer": "ipython3",
   "version": "3.8.0"
  }
 },
 "nbformat": 4,
 "nbformat_minor": 5
}
